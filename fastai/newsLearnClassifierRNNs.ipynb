{
 "cells": [
  {
   "cell_type": "markdown",
   "metadata": {},
   "source": [
    "# Deep neural net classification of short text using pre-trained language model\n",
    "\n",
    "Written for python 3.7, meant to run with 4GB CUDA-capable machine (iceberg)"
   ]
  },
  {
   "cell_type": "code",
   "execution_count": 1,
   "metadata": {
    "collapsed": true
   },
   "outputs": [],
   "source": [
    "%reload_ext autoreload\n",
    "%autoreload 2\n",
    "%matplotlib inline"
   ]
  },
  {
   "cell_type": "code",
   "execution_count": 2,
   "metadata": {
    "collapsed": true
   },
   "outputs": [],
   "source": [
    "from fastai.text import *\n",
    "import fastprogress\n",
    "bs = 32 # size of minibatch\n",
    "# written with fastai v1.0.48\n",
    "\n",
    "from collections import defaultdict"
   ]
  },
  {
   "cell_type": "code",
   "execution_count": 3,
   "metadata": {
    "collapsed": true
   },
   "outputs": [],
   "source": [
    "lang_model_path = Path('/data/fastai-models/language_model')\n",
    "vocab = Vocab(pickle.load(open(lang_model_path/'itos.pkl','rb')))"
   ]
  },
  {
   "cell_type": "code",
   "execution_count": 4,
   "metadata": {
    "collapsed": true
   },
   "outputs": [],
   "source": [
    "# load our labeled data into a TextClasDataBunch\n",
    "model_path = Path('/data/fastai-models')\n",
    "path = Path('../labeled_data')\n",
    "fold = 1\n",
    "fold_name = 'fold_' + str(fold)\n",
    "model_path /= fold_name\n",
    "path /= fold_name\n",
    "groupname = 'label_usforeign' #'label_category'\n",
    "train_df = pd.read_csv(path/groupname/(groupname+'_train.tsv'), header=None, delimiter='\\t', names=['label','text'])\n",
    "valid_df = pd.read_csv(path/groupname/(groupname+'_valid.tsv'), header=None, delimiter='\\t', names=['label','text'])\n",
    "\n",
    "data_clas = TextClasDataBunch.from_df(model_path, train_df, valid_df, vocab=vocab, text_cols='text', label_cols='label', bs=bs)\n",
    "# label_delim=',' # for multilabel\n",
    "#data_clas.save('fold_'+fold+'-'+groupname+'_clas')"
   ]
  },
  {
   "cell_type": "code",
   "execution_count": 5,
   "metadata": {
    "collapsed": true
   },
   "outputs": [],
   "source": [
    "sys.path.append(\"..\") # Adds higher directory to python modules path.\n",
    "if groupname == 'multilabel':\n",
    "    from common import Label_DbFields, Labels\n",
    "    class_mask = [c in Labels['label_category'] for c in data_clas.train_ds.classes]\n",
    "    class_idxes = sorted([data_clas.train_ds.classes.index(c) for c in Labels['label_category']])"
   ]
  },
  {
   "cell_type": "code",
   "execution_count": 7,
   "metadata": {},
   "outputs": [
    {
     "data": {
      "text/plain": [
       "True"
      ]
     },
     "execution_count": 7,
     "metadata": {},
     "output_type": "execute_result"
    }
   ],
   "source": [
    "torch.cuda.is_available()"
   ]
  },
  {
   "cell_type": "code",
   "execution_count": 5,
   "metadata": {
    "collapsed": true
   },
   "outputs": [],
   "source": [
    "def accuracy_category(y_pred:Tensor, y_true:Tensor, class_idxes:Tensor, thresh:float=0.5, sigmoid:bool=True)->Rank0Tensor:\n",
    "    \"Gives accuracy when `y_pred` above threshold, only for the true column(s) among the `class_idxes` columns.\"\n",
    "    # note this gives no penalty for marking other labels incorrectly among class_idxes columns\n",
    "    # this is roughly comparable to accuracy for a single classifier with class_idxes' labels as the classes\n",
    "    if sigmoid: y_pred = y_pred.sigmoid()\n",
    "    correct_category_mask = y_true.index_select(1, class_idxes) > 0\n",
    "    return (y_pred.index_select(1, class_idxes)[correct_category_mask] > thresh).float().mean()"
   ]
  },
  {
   "cell_type": "code",
   "execution_count": 12,
   "metadata": {
    "collapsed": true,
    "scrolled": true
   },
   "outputs": [],
   "source": [
    "#acc_02 = partial(accuracy_thresh, thresh=0.2)\n",
    "#f_score = partial(fbeta, thresh=0.2)\n",
    "top3accuracy = partial(top_k_accuracy, k=3)\n",
    "top5accuracy = partial(top_k_accuracy, k=5)\n",
    "#label_category_accuracy = partial(accuracy_category, class_idxes=tensor(class_idxes).cuda(), thresh=0.5)\n",
    "if groupname in ('label_category', 'station'):\n",
    "    learn = text_classifier_learner(data_clas, AWD_LSTM, drop_mult=0.75, metrics=[accuracy, top3accuracy, top5accuracy])\n",
    "elif groupname == 'multilabel':\n",
    "    learn = text_classifier_learner(data_clas, AWD_LSTM, drop_mult=1.0, metrics=[accuracy_thresh, label_category_accuracy, fbeta])\n",
    "else:\n",
    "    learn = text_classifier_learner(data_clas, AWD_LSTM, drop_mult=0.75, metrics=[accuracy])\n",
    "learn.load_encoder('../..'/lang_model_path/'lm_fine_tuned3_enc')\n",
    "learn.freeze()"
   ]
  },
  {
   "cell_type": "code",
   "execution_count": 7,
   "metadata": {
    "scrolled": true
   },
   "outputs": [
    {
     "data": {
      "text/html": [],
      "text/plain": [
       "<IPython.core.display.HTML object>"
      ]
     },
     "metadata": {},
     "output_type": "display_data"
    },
    {
     "name": "stdout",
     "output_type": "stream",
     "text": [
      "LR Finder is complete, type {learner_name}.recorder.plot() to see the graph.\n"
     ]
    },
    {
     "data": {
      "image/png": "[encoded data removed]",
      "text/plain": [
       "<Figure size 432x288 with 1 Axes>"
      ]
     },
     "metadata": {
      "needs_background": "light"
     },
     "output_type": "display_data"
    }
   ],
   "source": [
    "learn.lr_find()\n",
    "learn.recorder.plot(skip_end=10)"
   ]
  },
  {
   "cell_type": "code",
   "execution_count": 15,
   "metadata": {},
   "outputs": [
    {
     "data": {
      "text/html": [
       "Total time: 00:07 <p><table border=\"1\" class=\"dataframe\">\n",
       "  <thead>\n",
       "    <tr style=\"text-align: left;\">\n",
       "      <th>epoch</th>\n",
       "      <th>train_loss</th>\n",
       "      <th>valid_loss</th>\n",
       "      <th>accuracy</th>\n",
       "      <th>time</th>\n",
       "    </tr>\n",
       "  </thead>\n",
       "  <tbody>\n",
       "    <tr>\n",
       "      <td>0</td>\n",
       "      <td>0.524364</td>\n",
       "      <td>0.483436</td>\n",
       "      <td>0.801619</td>\n",
       "      <td>00:07</td>\n",
       "    </tr>\n",
       "  </tbody>\n",
       "</table>"
      ],
      "text/plain": [
       "<IPython.core.display.HTML object>"
      ]
     },
     "metadata": {},
     "output_type": "display_data"
    }
   ],
   "source": [
    "learn.fit_one_cycle(1, 2e-2, moms=(0.9,0.8))"
   ]
  },
  {
   "cell_type": "code",
   "execution_count": 16,
   "metadata": {
    "collapsed": true
   },
   "outputs": [],
   "source": [
    "learn.save('tone_pass_1')"
   ]
  },
  {
   "cell_type": "code",
   "execution_count": 9,
   "metadata": {},
   "outputs": [
    {
     "data": {
      "text/plain": [
       "0.9099942445755005"
      ]
     },
     "execution_count": 9,
     "metadata": {},
     "output_type": "execute_result"
    }
   ],
   "source": [
    "float(learn.recorder.metrics[-1][0]) # last epoch, first metric"
   ]
  },
  {
   "cell_type": "code",
   "execution_count": 18,
   "metadata": {},
   "outputs": [
    {
     "data": {
      "text/html": [
       "Total time: 00:08 <p><table border=\"1\" class=\"dataframe\">\n",
       "  <thead>\n",
       "    <tr style=\"text-align: left;\">\n",
       "      <th>epoch</th>\n",
       "      <th>train_loss</th>\n",
       "      <th>valid_loss</th>\n",
       "      <th>accuracy</th>\n",
       "      <th>time</th>\n",
       "    </tr>\n",
       "  </thead>\n",
       "  <tbody>\n",
       "    <tr>\n",
       "      <td>0</td>\n",
       "      <td>0.575747</td>\n",
       "      <td>0.502688</td>\n",
       "      <td>0.838057</td>\n",
       "      <td>00:08</td>\n",
       "    </tr>\n",
       "  </tbody>\n",
       "</table>"
      ],
      "text/plain": [
       "<IPython.core.display.HTML object>"
      ]
     },
     "metadata": {},
     "output_type": "display_data"
    }
   ],
   "source": [
    "learn.load('tone_pass_1')\n",
    "#learn.fit_one_cycle(1, 3e-2, moms=(0.8,0.7))\n",
    "learn.freeze_to(-2)\n",
    "learn.fit_one_cycle(1, slice(2e-2/(2.6**4),2e-2), moms=(0.85,0.75))"
   ]
  },
  {
   "cell_type": "code",
   "execution_count": 19,
   "metadata": {
    "collapsed": true
   },
   "outputs": [],
   "source": [
    "learn.save('tone_pass_2')"
   ]
  },
  {
   "cell_type": "code",
   "execution_count": 20,
   "metadata": {},
   "outputs": [
    {
     "data": {
      "text/html": [
       "Total time: 00:08 <p><table border=\"1\" class=\"dataframe\">\n",
       "  <thead>\n",
       "    <tr style=\"text-align: left;\">\n",
       "      <th>epoch</th>\n",
       "      <th>train_loss</th>\n",
       "      <th>valid_loss</th>\n",
       "      <th>accuracy</th>\n",
       "      <th>time</th>\n",
       "    </tr>\n",
       "  </thead>\n",
       "  <tbody>\n",
       "    <tr>\n",
       "      <td>0</td>\n",
       "      <td>0.432266</td>\n",
       "      <td>0.469823</td>\n",
       "      <td>0.825911</td>\n",
       "      <td>00:08</td>\n",
       "    </tr>\n",
       "  </tbody>\n",
       "</table>"
      ],
      "text/plain": [
       "<IPython.core.display.HTML object>"
      ]
     },
     "metadata": {},
     "output_type": "display_data"
    }
   ],
   "source": [
    "learn.fit_one_cycle(1, slice(1e-2/(2.6**4),1e-2), moms=(0.85,0.75))"
   ]
  },
  {
   "cell_type": "code",
   "execution_count": 81,
   "metadata": {
    "collapsed": true
   },
   "outputs": [],
   "source": [
    "learn.save('tone_pass_2')"
   ]
  },
  {
   "cell_type": "code",
   "execution_count": 21,
   "metadata": {},
   "outputs": [
    {
     "data": {
      "text/html": [
       "Total time: 00:12 <p><table border=\"1\" class=\"dataframe\">\n",
       "  <thead>\n",
       "    <tr style=\"text-align: left;\">\n",
       "      <th>epoch</th>\n",
       "      <th>train_loss</th>\n",
       "      <th>valid_loss</th>\n",
       "      <th>accuracy</th>\n",
       "      <th>time</th>\n",
       "    </tr>\n",
       "  </thead>\n",
       "  <tbody>\n",
       "    <tr>\n",
       "      <td>0</td>\n",
       "      <td>0.463357</td>\n",
       "      <td>0.482475</td>\n",
       "      <td>0.834008</td>\n",
       "      <td>00:12</td>\n",
       "    </tr>\n",
       "  </tbody>\n",
       "</table>"
      ],
      "text/plain": [
       "<IPython.core.display.HTML object>"
      ]
     },
     "metadata": {},
     "output_type": "display_data"
    }
   ],
   "source": [
    "learn.load('tone_pass_2')\n",
    "learn.freeze_to(-3)\n",
    "learn.fit_one_cycle(1, slice(2e-3/(2.6**4),2e-3))#, moms=(0.85,0.75))"
   ]
  },
  {
   "cell_type": "code",
   "execution_count": 61,
   "metadata": {},
   "outputs": [
    {
     "data": {
      "text/plain": [
       "702"
      ]
     },
     "execution_count": 61,
     "metadata": {},
     "output_type": "execute_result"
    }
   ],
   "source": [
    "data_clas = None\n",
    "gc.collect()"
   ]
  },
  {
   "cell_type": "code",
   "execution_count": 23,
   "metadata": {},
   "outputs": [
    {
     "data": {
      "text/html": [
       "Total time: 00:12 <p><table border=\"1\" class=\"dataframe\">\n",
       "  <thead>\n",
       "    <tr style=\"text-align: left;\">\n",
       "      <th>epoch</th>\n",
       "      <th>train_loss</th>\n",
       "      <th>valid_loss</th>\n",
       "      <th>accuracy</th>\n",
       "      <th>time</th>\n",
       "    </tr>\n",
       "  </thead>\n",
       "  <tbody>\n",
       "    <tr>\n",
       "      <td>0</td>\n",
       "      <td>0.427636</td>\n",
       "      <td>0.458090</td>\n",
       "      <td>0.842105</td>\n",
       "      <td>00:12</td>\n",
       "    </tr>\n",
       "  </tbody>\n",
       "</table>"
      ],
      "text/plain": [
       "<IPython.core.display.HTML object>"
      ]
     },
     "metadata": {},
     "output_type": "display_data"
    }
   ],
   "source": [
    "learn.fit_one_cycle(1, slice(2e-3/(2.6**4),2e-3))#, moms=(0.85,0.75))"
   ]
  },
  {
   "cell_type": "code",
   "execution_count": 24,
   "metadata": {
    "collapsed": true
   },
   "outputs": [],
   "source": [
    "learn.save('tone_pass_3b')"
   ]
  },
  {
   "cell_type": "code",
   "execution_count": 55,
   "metadata": {},
   "outputs": [
    {
     "data": {
      "text/html": [
       "Total time: 00:17 <p><table border=\"1\" class=\"dataframe\">\n",
       "  <thead>\n",
       "    <tr style=\"text-align: left;\">\n",
       "      <th>epoch</th>\n",
       "      <th>train_loss</th>\n",
       "      <th>valid_loss</th>\n",
       "      <th>accuracy</th>\n",
       "      <th>time</th>\n",
       "    </tr>\n",
       "  </thead>\n",
       "  <tbody>\n",
       "    <tr>\n",
       "      <td>0</td>\n",
       "      <td>0.409362</td>\n",
       "      <td>0.442650</td>\n",
       "      <td>0.842105</td>\n",
       "      <td>00:17</td>\n",
       "    </tr>\n",
       "  </tbody>\n",
       "</table>"
      ],
      "text/plain": [
       "<IPython.core.display.HTML object>"
      ]
     },
     "metadata": {},
     "output_type": "display_data"
    }
   ],
   "source": [
    "learn.load('tone_pass_3b')\n",
    "learn.unfreeze()\n",
    "learn.fit_one_cycle(1, slice(4e-3/(2.6**4),2e-3), moms=(0.9,0.8))\n",
    "#learn.save(groupname+'_clas_fine_tuned')"
   ]
  },
  {
   "cell_type": "code",
   "execution_count": 60,
   "metadata": {},
   "outputs": [
    {
     "data": {
      "text/html": [
       "Total time: 00:16 <p><table border=\"1\" class=\"dataframe\">\n",
       "  <thead>\n",
       "    <tr style=\"text-align: left;\">\n",
       "      <th>epoch</th>\n",
       "      <th>train_loss</th>\n",
       "      <th>valid_loss</th>\n",
       "      <th>accuracy</th>\n",
       "      <th>time</th>\n",
       "    </tr>\n",
       "  </thead>\n",
       "  <tbody>\n",
       "    <tr>\n",
       "      <td>0</td>\n",
       "      <td>0.355596</td>\n",
       "      <td>0.447332</td>\n",
       "      <td>0.825911</td>\n",
       "      <td>00:16</td>\n",
       "    </tr>\n",
       "  </tbody>\n",
       "</table>"
      ],
      "text/plain": [
       "<IPython.core.display.HTML object>"
      ]
     },
     "metadata": {},
     "output_type": "display_data"
    }
   ],
   "source": [
    "learn.fit_one_cycle(1, slice(3e-3/(2.6**4),1e-3), moms=(0.9,0.8))"
   ]
  },
  {
   "cell_type": "code",
   "execution_count": 58,
   "metadata": {
    "collapsed": true
   },
   "outputs": [],
   "source": [
    "learn.export(groupname+'_clas_fine_tuned-fold1_.850-3.pkl')"
   ]
  },
  {
   "cell_type": "code",
   "execution_count": 10,
   "metadata": {},
   "outputs": [
    {
     "data": {
      "image/png": "[encoded data removed]",
      "text/plain": [
       "<Figure size 432x288 with 1 Axes>"
      ]
     },
     "metadata": {
      "needs_background": "light"
     },
     "output_type": "display_data"
    }
   ],
   "source": [
    "learn.recorder.plot_losses()"
   ]
  },
  {
   "cell_type": "markdown",
   "metadata": {},
   "source": [
    "Here is how to run on test data / data without labels"
   ]
  },
  {
   "cell_type": "code",
   "execution_count": null,
   "metadata": {
    "collapsed": true
   },
   "outputs": [],
   "source": [
    "test = ImageItemList.from_folder(path/'test-jpg').add(ImageItemList.from_folder(path/'test-jpg-additional'))\n",
    "len(test)"
   ]
  },
  {
   "cell_type": "code",
   "execution_count": null,
   "metadata": {
    "collapsed": true
   },
   "outputs": [],
   "source": [
    "learn = load_learner(path, test=test)\n",
    "preds, _ = learn.get_preds(ds_type=DatasetType.Test)"
   ]
  },
  {
   "cell_type": "code",
   "execution_count": 28,
   "metadata": {},
   "outputs": [
    {
     "data": {
      "text/html": [
       "Total time: 00:37 <p><table style='width:300px; margin-bottom:10px'>\n",
       "  <tr>\n",
       "    <th>epoch</th>\n",
       "    <th>train_loss</th>\n",
       "    <th>valid_loss</th>\n",
       "    <th>accuracy</th>\n",
       "  </tr>\n",
       "  <tr>\n",
       "    <th>1</th>\n",
       "    <th>0.267345</th>\n",
       "    <th>0.120367</th>\n",
       "    <th>0.960133</th>\n",
       "  </tr>\n",
       "  <tr>\n",
       "    <th>2</th>\n",
       "    <th>0.145206</th>\n",
       "    <th>0.124274</th>\n",
       "    <th>0.953488</th>\n",
       "  </tr>\n",
       "</table>\n"
      ],
      "text/plain": [
       "<IPython.core.display.HTML object>"
      ]
     },
     "metadata": {},
     "output_type": "display_data"
    },
    {
     "data": {
      "text/html": [
       "Total time: 00:20 <p><table style='width:300px; margin-bottom:10px'>\n",
       "  <tr>\n",
       "    <th>epoch</th>\n",
       "    <th>train_loss</th>\n",
       "    <th>valid_loss</th>\n",
       "    <th>accuracy</th>\n",
       "  </tr>\n",
       "  <tr>\n",
       "    <th>1</th>\n",
       "    <th>0.133902</th>\n",
       "    <th>0.176657</th>\n",
       "    <th>0.943522</th>\n",
       "  </tr>\n",
       "</table>\n"
      ],
      "text/plain": [
       "<IPython.core.display.HTML object>"
      ]
     },
     "metadata": {},
     "output_type": "display_data"
    },
    {
     "data": {
      "text/html": [
       "Total time: 00:30 <p><table style='width:300px; margin-bottom:10px'>\n",
       "  <tr>\n",
       "    <th>epoch</th>\n",
       "    <th>train_loss</th>\n",
       "    <th>valid_loss</th>\n",
       "    <th>accuracy</th>\n",
       "  </tr>\n",
       "  <tr>\n",
       "    <th>1</th>\n",
       "    <th>0.099062</th>\n",
       "    <th>0.131643</th>\n",
       "    <th>0.953488</th>\n",
       "  </tr>\n",
       "</table>\n"
      ],
      "text/plain": [
       "<IPython.core.display.HTML object>"
      ]
     },
     "metadata": {},
     "output_type": "display_data"
    },
    {
     "data": {
      "text/html": [
       "Total time: 01:25 <p><table style='width:300px; margin-bottom:10px'>\n",
       "  <tr>\n",
       "    <th>epoch</th>\n",
       "    <th>train_loss</th>\n",
       "    <th>valid_loss</th>\n",
       "    <th>accuracy</th>\n",
       "  </tr>\n",
       "  <tr>\n",
       "    <th>1</th>\n",
       "    <th>0.075871</th>\n",
       "    <th>0.135669</th>\n",
       "    <th>0.953488</th>\n",
       "  </tr>\n",
       "  <tr>\n",
       "    <th>2</th>\n",
       "    <th>0.045997</th>\n",
       "    <th>0.135994</th>\n",
       "    <th>0.953488</th>\n",
       "  </tr>\n",
       "</table>\n"
      ],
      "text/plain": [
       "<IPython.core.display.HTML object>"
      ]
     },
     "metadata": {},
     "output_type": "display_data"
    }
   ],
   "source": [
    "learn = text_classifier_learner(data_clas, drop_mult=0.5)\n",
    "learn.load_encoder('../..'/lang_model_path/'lm_fine_tuned3_enc')\n",
    "learn.freeze()\n",
    "learn.fit_one_cycle(2, 1e-2, moms=(0.8,0.7))\n",
    "learn.freeze_to(-2)\n",
    "learn.fit_one_cycle(1, slice(1e-2/(2.6**4),1e-2), moms=(0.85,0.75))\n",
    "learn.freeze_to(-3)\n",
    "learn.fit_one_cycle(1, slice(5e-3/(2.6**4),5e-3), moms=(0.85,0.75))\n",
    "learn.unfreeze()\n",
    "learn.fit_one_cycle(2, slice(1e-3/(2.6**4),1e-3), moms=(0.8,0.7))"
   ]
  },
  {
   "cell_type": "code",
   "execution_count": 29,
   "metadata": {},
   "outputs": [
    {
     "data": {
      "text/plain": [
       "0.9534883499145508"
      ]
     },
     "execution_count": 29,
     "metadata": {},
     "output_type": "execute_result"
    }
   ],
   "source": [
    "float(learn.recorder.metrics[-1][0])"
   ]
  },
  {
   "cell_type": "code",
   "execution_count": 30,
   "metadata": {},
   "outputs": [
    {
     "data": {
      "image/png": "[encoded data removed]",
      "text/plain": [
       "<Figure size 432x288 with 1 Axes>"
      ]
     },
     "metadata": {
      "needs_background": "light"
     },
     "output_type": "display_data"
    }
   ],
   "source": [
    "# this is apparently only plotting the most recent call to fit\n",
    "learn.recorder.plot_losses()"
   ]
  },
  {
   "cell_type": "code",
   "execution_count": 4,
   "metadata": {
    "collapsed": true
   },
   "outputs": [],
   "source": [
    "# load our labeled data into a TextClasDataBunch\n",
    "model_path = Path('/home/briggsjt/fastai_models')\n",
    "path = Path('../labeled_data')"
   ]
  },
  {
   "cell_type": "code",
   "execution_count": 10,
   "metadata": {},
   "outputs": [
    {
     "data": {
      "text/html": [
       "Total time: 00:42 <p><table style='width:300px; margin-bottom:10px'>\n",
       "  <tr>\n",
       "    <th>epoch</th>\n",
       "    <th>train_loss</th>\n",
       "    <th>valid_loss</th>\n",
       "    <th>accuracy</th>\n",
       "  </tr>\n",
       "  <tr>\n",
       "    <th>1</th>\n",
       "    <th>0.903922</th>\n",
       "    <th>0.733835</th>\n",
       "    <th>0.693333</th>\n",
       "  </tr>\n",
       "  <tr>\n",
       "    <th>2</th>\n",
       "    <th>0.700443</th>\n",
       "    <th>0.667015</th>\n",
       "    <th>0.736667</th>\n",
       "  </tr>\n",
       "</table>\n"
      ],
      "text/plain": [
       "<IPython.core.display.HTML object>"
      ]
     },
     "metadata": {},
     "output_type": "display_data"
    },
    {
     "data": {
      "text/html": [
       "Total time: 00:22 <p><table style='width:300px; margin-bottom:10px'>\n",
       "  <tr>\n",
       "    <th>epoch</th>\n",
       "    <th>train_loss</th>\n",
       "    <th>valid_loss</th>\n",
       "    <th>accuracy</th>\n",
       "  </tr>\n",
       "  <tr>\n",
       "    <th>1</th>\n",
       "    <th>0.684584</th>\n",
       "    <th>0.697587</th>\n",
       "    <th>0.730000</th>\n",
       "  </tr>\n",
       "</table>\n"
      ],
      "text/plain": [
       "<IPython.core.display.HTML object>"
      ]
     },
     "metadata": {},
     "output_type": "display_data"
    },
    {
     "data": {
      "text/html": [
       "Total time: 00:34 <p><table style='width:300px; margin-bottom:10px'>\n",
       "  <tr>\n",
       "    <th>epoch</th>\n",
       "    <th>train_loss</th>\n",
       "    <th>valid_loss</th>\n",
       "    <th>accuracy</th>\n",
       "  </tr>\n",
       "  <tr>\n",
       "    <th>1</th>\n",
       "    <th>0.591699</th>\n",
       "    <th>0.640709</th>\n",
       "    <th>0.783333</th>\n",
       "  </tr>\n",
       "</table>\n"
      ],
      "text/plain": [
       "<IPython.core.display.HTML object>"
      ]
     },
     "metadata": {},
     "output_type": "display_data"
    },
    {
     "data": {
      "text/html": [
       "Total time: 01:32 <p><table style='width:300px; margin-bottom:10px'>\n",
       "  <tr>\n",
       "    <th>epoch</th>\n",
       "    <th>train_loss</th>\n",
       "    <th>valid_loss</th>\n",
       "    <th>accuracy</th>\n",
       "  </tr>\n",
       "  <tr>\n",
       "    <th>1</th>\n",
       "    <th>0.430048</th>\n",
       "    <th>0.636889</th>\n",
       "    <th>0.773333</th>\n",
       "  </tr>\n",
       "  <tr>\n",
       "    <th>2</th>\n",
       "    <th>0.425984</th>\n",
       "    <th>0.653159</th>\n",
       "    <th>0.753333</th>\n",
       "  </tr>\n",
       "</table>\n"
      ],
      "text/plain": [
       "<IPython.core.display.HTML object>"
      ]
     },
     "metadata": {},
     "output_type": "display_data"
    }
   ],
   "source": [
    "# dir structure: labeled_data/fold_i/groupname/groupname_[train|valid].tsv for i in 0..4\n",
    "fold_accuracies = defaultdict(list)\n",
    "for fold in range(5):\n",
    "    fold_name = 'fold_' + str(fold)\n",
    "    for groupfilepath in (path/fold_name).ls():\n",
    "        groupname = str(groupfilepath.parts[-1])\n",
    "        print('Processing ' + fold_name + ' ' + groupname + '\\n\\n')\n",
    "        \n",
    "        # load the training and validation data for this group name and fold\n",
    "        train_df = pd.read_csv(path/fold_name/groupname/(groupname+'_train.tsv'), header=None, delimiter='\\t', names=['label','text'])\n",
    "        valid_df = pd.read_csv(path/fold_name/groupname/(groupname+'_valid.tsv'), header=None, delimiter='\\t', names=['label','text'])\n",
    "\n",
    "        # settings for single vs multi-label learners\n",
    "        metrics = [accuracy]\n",
    "        label_delim = None\n",
    "        initial_lr = 1e-2\n",
    "        if groupname == 'multilabel':\n",
    "            metrics = [accuracy_thresh] # accuracy per label at default threshold of 0.5\n",
    "            label_delim = ','\n",
    "            initial_lr *= 4\n",
    "        \n",
    "        data_clas = TextClasDataBunch.from_df(model_path/fold_name, train_df, valid_df, vocab=vocab, \n",
    "                                              text_cols='text', label_cols='label', bs=bs,\n",
    "                                              label_delim=label_delim)\n",
    "        #data_clas.save('fold_'+fold+'-'+groupname+'_clas')\n",
    "        \n",
    "        learn = text_classifier_learner(data_clas, metrics=metrics, drop_mult=0.6)\n",
    "        learn.load_encoder('../..'/lang_model_path/'lm_fine_tuned3_enc')\n",
    "        learn.freeze()\n",
    "        learn.fit_one_cycle(2, initial_lr, moms=(0.8,0.7))\n",
    "        learn.freeze_to(-2)\n",
    "        learn.fit_one_cycle(1, slice(initial_lr/(2.6**4), initial_lr), moms=(0.85,0.75))\n",
    "        learn.freeze_to(-3)\n",
    "        learn.fit_one_cycle(1, slice(initial_lr*0.5/(2.6**4), initial_lr*0.5), moms=(0.85,0.75))\n",
    "        learn.unfreeze()\n",
    "        learn.fit_one_cycle(2, slice(initial_lr*0.1/(2.6**4), initial_lr*0.1), moms=(0.8,0.7))\n",
    "        learn.save(groupname+'_clas_fine_tuned')\n",
    "        \n",
    "        # save accuracies for later use\n",
    "        fold_accuracies[groupname].append(float(learn.recorder.metrics[-1][0]))"
   ]
  },
  {
   "cell_type": "code",
   "execution_count": 12,
   "metadata": {
    "scrolled": true
   },
   "outputs": [
    {
     "name": "stdout",
     "output_type": "stream",
     "text": [
      "Cross-fold cross-validation statistics:\n",
      "For hardsoft, mean 81.838095, SD 1.962533\n",
      "For factinvestigative, mean 64.955554, SD 0.775821\n",
      "For label_emotion, mean 79.018009, SD 2.642516\n",
      "For label_usforeign, mean 81.457543, SD 3.703197\n",
      "For label_investigative, mean 80.587078, SD 7.277574\n",
      "For label_category, mean 68.002437, SD 3.406711\n",
      "For nonsense, mean 97.538649, SD 0.930303\n",
      "For label_tone, mean 55.987773, SD 2.108498\n",
      "For multilabel, mean 92.234118, SD 0.371366\n",
      "For ads, mean 95.808859, SD 1.875260\n",
      "For transitions, mean 94.610852, SD 1.492980\n",
      "For label_factopinion, mean 70.605471, SD 1.268338\n",
      "For supergroups, mean 77.179623, SD 1.984949\n"
     ]
    }
   ],
   "source": [
    "print(\"Cross-fold cross-validation statistics:\")\n",
    "for labelgroup, accuracies in fold_accuracies.items():\n",
    "    accuracies = np.array(accuracies)\n",
    "    print(\"For %s, mean %02f, SD %02f\" % (labelgroup, 100.*accuracies.mean(), 100.*accuracies.std()))"
   ]
  },
  {
   "cell_type": "code",
   "execution_count": 23,
   "metadata": {
    "collapsed": true
   },
   "outputs": [],
   "source": [
    "# disable progress bars, see https://forums.fast.ai/t/default-to-completely-disable-progress-bar/40010\n",
    "import fastai, fastprogress\n",
    "fastprogress.fastprogress.NO_BAR = True\n",
    "master_bar, progress_bar = fastprogress.force_console_behavior()\n",
    "fastai.basic_train.master_bar, fastai.basic_train.progress_bar = master_bar, progress_bar\n",
    "fastai.basic_data.master_bar, fastai.basic_data.progress_bar = master_bar, progress_bar\n",
    "#dataclass.master_bar, dataclass.progress_bar = master_bar, progress_bar\n",
    "fastai.text.master_bar, fastai.text.progress_bar = master_bar, progress_bar\n",
    "fastai.text.data.master_bar, fastai.text.data.progress_bar = master_bar, progress_bar\n",
    "fastai.core.master_bar, fastai.core.progress_bar = master_bar, progress_bar"
   ]
  },
  {
   "cell_type": "code",
   "execution_count": 16,
   "metadata": {
    "collapsed": true
   },
   "outputs": [],
   "source": [
    "sys.path.append(\"..\") # Adds higher directory to python modules path.\n",
    "from common import Label_DbFields, Labels\n",
    "class_mask = [c in Labels['label_category'] for c in data_clas.train_ds.classes]\n",
    "class_idxes = sorted([data_clas.train_ds.classes.index(c) for c in Labels['label_category']])"
   ]
  },
  {
   "cell_type": "code",
   "execution_count": null,
   "metadata": {
    "collapsed": true
   },
   "outputs": [],
   "source": []
  }
 ],
 "metadata": {
  "kernelspec": {
   "display_name": "Python [conda env:python37]",
   "language": "python",
   "name": "conda-env-python37-py"
  },
  "language_info": {
   "codemirror_mode": {
    "name": "ipython",
    "version": 3
   },
   "file_extension": ".py",
   "mimetype": "text/x-python",
   "name": "python",
   "nbconvert_exporter": "python",
   "pygments_lexer": "ipython3",
   "version": "3.7.2"
  }
 },
 "nbformat": 4,
 "nbformat_minor": 2
}
