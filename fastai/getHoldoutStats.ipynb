{
 "cells": [
  {
   "cell_type": "markdown",
   "metadata": {},
   "source": [
    "# Evaluate models against holdout set\n",
    "\n",
    "Written for python 3.7, meant to run on 4GB CUDA-capable machine (iceberg)"
   ]
  },
  {
   "cell_type": "code",
   "execution_count": 1,
   "metadata": {
    "collapsed": true
   },
   "outputs": [],
   "source": [
    "%reload_ext autoreload\n",
    "%autoreload 2\n",
    "%matplotlib inline"
   ]
  },
  {
   "cell_type": "code",
   "execution_count": 2,
   "metadata": {
    "collapsed": true
   },
   "outputs": [],
   "source": [
    "from fastai.text import *\n",
    "import fastprogress\n",
    "bs = 32 # size of minibatch\n",
    "# written with fastai v1.0.48\n",
    "\n",
    "from collections import defaultdict"
   ]
  },
  {
   "cell_type": "code",
   "execution_count": 3,
   "metadata": {
    "collapsed": true
   },
   "outputs": [],
   "source": [
    "lang_model_path = Path('/data/fastai-models/language_model')\n",
    "vocab = Vocab(pickle.load(open(lang_model_path/'itos.pkl','rb')))"
   ]
  },
  {
   "cell_type": "code",
   "execution_count": 4,
   "metadata": {
    "collapsed": true
   },
   "outputs": [],
   "source": [
    "sys.path.append(\"..\") # Adds higher directory to python modules path.\n",
    "from common import Label_DbFields, Labels\n",
    "# needed for class_mask for accuracy_category"
   ]
  },
  {
   "cell_type": "code",
   "execution_count": 5,
   "metadata": {
    "collapsed": true
   },
   "outputs": [],
   "source": [
    "def accuracy_category(y_pred:Tensor, y_true:Tensor, class_idxes:Tensor, thresh:float=0.5, sigmoid:bool=True)->Rank0Tensor:\n",
    "    \"Gives accuracy when `y_pred` above threshold, only for the true column(s) among the `class_idxes` columns.\"\n",
    "    # note this gives no penalty for marking other labels incorrectly among class_idxes columns\n",
    "    # this is roughly comparable to accuracy for a single classifier with class_idxes' labels as the classes\n",
    "    if sigmoid: y_pred = y_pred.sigmoid()\n",
    "    correct_category_mask = y_true.index_select(1, class_idxes) > 0\n",
    "    return (y_pred.index_select(1, class_idxes)[correct_category_mask] > thresh).float().mean()"
   ]
  },
  {
   "cell_type": "code",
   "execution_count": 6,
   "metadata": {
    "collapsed": true
   },
   "outputs": [],
   "source": [
    "# disable progress bars, see https://forums.fast.ai/t/default-to-completely-disable-progress-bar/40010\n",
    "import fastai, fastprogress\n",
    "fastprogress.fastprogress.NO_BAR = True\n",
    "master_bar, progress_bar = fastprogress.force_console_behavior()\n",
    "fastai.basic_train.master_bar, fastai.basic_train.progress_bar = master_bar, progress_bar\n",
    "fastai.basic_data.master_bar, fastai.basic_data.progress_bar = master_bar, progress_bar\n",
    "#dataclass.master_bar, dataclass.progress_bar = master_bar, progress_bar\n",
    "fastai.text.master_bar, fastai.text.progress_bar = master_bar, progress_bar\n",
    "fastai.text.data.master_bar, fastai.text.data.progress_bar = master_bar, progress_bar\n",
    "fastai.core.master_bar, fastai.core.progress_bar = master_bar, progress_bar"
   ]
  },
  {
   "cell_type": "code",
   "execution_count": 7,
   "metadata": {
    "collapsed": true
   },
   "outputs": [],
   "source": [
    "# this contains the labels for each classifier\n",
    "label_set = Labels.copy()\n",
    "label_set['factinvestigative'] = ['investigative', 'noninvestigative', 'opinion', 'other']"
   ]
  },
  {
   "cell_type": "code",
   "execution_count": 8,
   "metadata": {
    "collapsed": true
   },
   "outputs": [],
   "source": [
    "def getTopPredPcts(preds, classes, clas_name):\n",
    "    labelcounts = defaultdict(int)\n",
    "    yhat = np.argmax(preds.numpy(), axis=1)\n",
    "    for label in yhat:\n",
    "        labelcounts[label] += 1   # leave index 0 for the overall counts to calculate next\n",
    "\n",
    "    print(\"    \", preds[:5])\n",
    "#        print(labelcounts[0])\n",
    "\n",
    "    # translate from NN class index into class name, and make a full list of counts\n",
    "    namedlabelcounts = defaultdict(int)\n",
    "    for k,v in labelcounts.items():\n",
    "        namedlabelcounts[classes[k]] = v\n",
    "\n",
    "#    print(\"    \", namedlabelcounts)\n",
    "\n",
    "    # label counts in order\n",
    "    total = len(preds)\n",
    "    counts_ordered = [float(namedlabelcounts[cn])/total for cn in label_set[clas_name]]\n",
    "    return zip(label_set[clas_name], counts_ordered)"
   ]
  },
  {
   "cell_type": "code",
   "execution_count": 9,
   "metadata": {
    "collapsed": true
   },
   "outputs": [],
   "source": [
    "def getTopKWeightedPredPcts(preds, classes, clas_name):\n",
    "    k = 3 if clas_name in ['label_category', 'station', 'supergroups'] else 2\n",
    "    likelihoods, posns = preds.topk(k, dim=-1, sorted=False)\n",
    "\n",
    "    # scale predictions so that top 3 likelihoods sum to 1\n",
    "    norm_factors = 1. / likelihoods.sum(dim=-1)\n",
    "    likelihoods = norm_factors * likelihoods.transpose(-1,0)\n",
    "    likelihoods.transpose_(-1,0)\n",
    "\n",
    "    # allocate their normalized likelihoods to the 3 categories for each snippet\n",
    "    likelihoods_sums = defaultdict(float)\n",
    "    # add up the likelihoods for each snippet for the top 3 column (class) positions\n",
    "    for (snippet_lhs, snippet_posns) in zip(likelihoods, posns):\n",
    "        for lh, posn in zip(snippet_lhs.tolist(), snippet_posns.tolist()):\n",
    "            likelihoods_sums[posn] += lh\n",
    "\n",
    "    # order the likelihoods for reporting, and sum up overall totals\n",
    "    namedlabelsums = defaultdict(float)\n",
    "    for k,v in likelihoods_sums.items():\n",
    "        namedlabelsums[learn.data.train_ds.classes[k]] = v\n",
    "        \n",
    "    total = len(preds)\n",
    "    summed_likelihoods_ordered = [namedlabelsums[cn]/total for cn in label_set[clas_name]]\n",
    "    return zip(label_set[clas_name], summed_likelihoods_ordered)\n"
   ]
  },
  {
   "cell_type": "markdown",
   "metadata": {
    "collapsed": true
   },
   "source": [
    "## Obtain statistics on holdout set"
   ]
  },
  {
   "cell_type": "code",
   "execution_count": 15,
   "metadata": {
    "scrolled": true
   },
   "outputs": [
    {
     "name": "stdout",
     "output_type": "stream",
     "text": [
      "\n",
      "Processing holdout set for label_category\n",
      "\n",
      "            label                                               text\n",
      "0             ads  To avoid long-term injury,seek immediate medic...\n",
      "1  current_events  The outcry can't be ignored and thousands of p...\n",
      "2             ads  Touch and be touched. Now bring the world a to...\n",
      "3    science_tech  1.3 billion dollars pulled together from publi...\n",
      "4      government  > As the head of security for TSA,Hogan's base...\n",
      "\n",
      "Processing holdout set for label_investigative\n",
      "\n",
      "              label                                               text\n",
      "0     investigative  The outcry can't be ignored and thousands of p...\n",
      "1  noninvestigative  1.3 billion dollars pulled together from publi...\n",
      "2  noninvestigative  > As the head of security for TSA,Hogan's base...\n",
      "3  noninvestigative  They are weakening or ease in a--or easing wit...\n",
      "4     investigative  > It was the start of a brutal and bloody thre...\n",
      "\n",
      "Processing holdout set for factinvestigative\n",
      "\n",
      "              label                                               text\n",
      "0     investigative  The outcry can't be ignored and thousands of p...\n",
      "1  noninvestigative  1.3 billion dollars pulled together from publi...\n",
      "2  noninvestigative  > As the head of security for TSA,Hogan's base...\n",
      "3           opinion  > As you heard the doctor just tell Don lemon,...\n",
      "4  noninvestigative  They are weakening or ease in a--or easing wit...\n",
      "\n",
      "Processing holdout set for ads\n",
      "\n",
      "   label                                               text\n",
      "0    ads  To avoid long-term injury,seek immediate medic...\n",
      "1  other  The outcry can't be ignored and thousands of p...\n",
      "2    ads  Touch and be touched. Now bring the world a to...\n",
      "3  other  1.3 billion dollars pulled together from publi...\n",
      "4  other  > As the head of security for TSA,Hogan's base...\n",
      "\n",
      "Processing holdout set for label_usforeign\n",
      "\n",
      "      label                                               text\n",
      "0   foreign  The outcry can't be ignored and thousands of p...\n",
      "1   foreign  1.3 billion dollars pulled together from publi...\n",
      "2  domestic  > As the head of security for TSA,Hogan's base...\n",
      "3   foreign  > As you heard the doctor just tell Don lemon,...\n",
      "4   unknown  They are weakening or ease in a--or easing wit...\n",
      "\n",
      "   [0.47182035, tensor(0.8445), tensor(0.9360)]\n",
      " - Out of  328 snippets\n",
      "     tensor([[9.9953e-01, 1.0296e-04, 3.6721e-04],\n",
      "        [6.2337e-01, 3.2361e-01, 5.3029e-02],\n",
      "        [3.3673e-01, 6.0133e-01, 6.1947e-02],\n",
      "        [4.9798e-03, 9.8127e-01, 1.3746e-02],\n",
      "        [9.9907e-01, 3.1642e-04, 6.1828e-04]])\n",
      "    - Top Preds %'s:\n",
      "                  domestic 0.667683\n",
      "                   unknown 0.042683\n",
      "                   foreign 0.289634\n",
      "    - Top-k summed Preds %'s:\n",
      "                  domestic 0.6453\n",
      "                   unknown 0.0714\n",
      "                   foreign 0.2833\n",
      "\n",
      "Processing holdout set for supergroups\n",
      "\n",
      "                   label                                               text\n",
      "0                  other  To avoid long-term injury,seek immediate medic...\n",
      "1        current_affairs  The outcry can't be ignored and thousands of p...\n",
      "2                  other  Touch and be touched. Now bring the world a to...\n",
      "3  business_tech_economy  1.3 billion dollars pulled together from publi...\n",
      "4   government_elections  > As the head of security for TSA,Hogan's base...\n",
      "\n",
      "Processing holdout set for transitions\n",
      "\n",
      "   label                                               text\n",
      "0  other  To avoid long-term injury,seek immediate medic...\n",
      "1  other  The outcry can't be ignored and thousands of p...\n",
      "2  other  Touch and be touched. Now bring the world a to...\n",
      "3  other  1.3 billion dollars pulled together from publi...\n",
      "4  other  > As the head of security for TSA,Hogan's base...\n",
      "\n",
      "Processing holdout set for label_emotion\n",
      "\n",
      "     label                                               text\n",
      "0    scary  The outcry can't be ignored and thousands of p...\n",
      "1  neither  1.3 billion dollars pulled together from publi...\n",
      "2  neither  > As the head of security for TSA,Hogan's base...\n",
      "3  neither  > As you heard the doctor just tell Don lemon,...\n",
      "4  neither  They are weakening or ease in a--or easing wit...\n",
      "\n",
      "Processing holdout set for nonsense\n",
      "\n",
      "           label                                               text\n",
      "0  categorizable  To avoid long-term injury,seek immediate medic...\n",
      "1  categorizable  The outcry can't be ignored and thousands of p...\n",
      "2  categorizable  Touch and be touched. Now bring the world a to...\n",
      "3  categorizable  1.3 billion dollars pulled together from publi...\n",
      "4  categorizable  > As the head of security for TSA,Hogan's base...\n",
      "\n",
      "Processing holdout set for label_factopinion\n",
      "\n",
      "     label                                               text\n",
      "0     fact  The outcry can't be ignored and thousands of p...\n",
      "1     fact  1.3 billion dollars pulled together from publi...\n",
      "2     fact  > As the head of security for TSA,Hogan's base...\n",
      "3  opinion  > As you heard the doctor just tell Don lemon,...\n",
      "4     fact  They are weakening or ease in a--or easing wit...\n",
      "\n",
      "Processing holdout set for multilabel\n",
      "\n",
      "                                               label  \\\n",
      "0                                                ads   \n",
      "1  investigative,current_events,scary,foreign,fac...   \n",
      "2                                                ads   \n",
      "3  noninvestigative,science_tech,neither,foreign,...   \n",
      "4  noninvestigative,government,neither,domestic,f...   \n",
      "\n",
      "                                                text  \n",
      "0  To avoid long-term injury,seek immediate medic...  \n",
      "1  The outcry can't be ignored and thousands of p...  \n",
      "2  Touch and be touched. Now bring the world a to...  \n",
      "3  1.3 billion dollars pulled together from publi...  \n",
      "4  > As the head of security for TSA,Hogan's base...  \n",
      "\n",
      "Processing holdout set for hardsoft\n",
      "\n",
      "           label                                               text\n",
      "0  other_unknown  To avoid long-term injury,seek immediate medic...\n",
      "1           hard  The outcry can't be ignored and thousands of p...\n",
      "2  other_unknown  Touch and be touched. Now bring the world a to...\n",
      "3           hard  1.3 billion dollars pulled together from publi...\n",
      "4           hard  > As the head of security for TSA,Hogan's base...\n",
      "\n",
      "Processing holdout set for label_tone\n",
      "\n",
      "      label                                               text\n",
      "0  negative  The outcry can't be ignored and thousands of p...\n",
      "1  positive  1.3 billion dollars pulled together from publi...\n",
      "2  negative  > As the head of security for TSA,Hogan's base...\n",
      "3  negative  > As you heard the doctor just tell Don lemon,...\n",
      "4   neutral  They are weakening or ease in a--or easing wit...\n"
     ]
    }
   ],
   "source": [
    "# dir structure: labeled_data/holdout_set/groupname-test.tsv\n",
    "# load our labeled data into a TextClasDataBunch\n",
    "\n",
    "# Use selected learners\n",
    "model_path = Path('/data/fastai-models')\n",
    "modeldir = model_path/\"selected\"\n",
    "\n",
    "holdout_path = Path(\"../labeled_data/holdout_set\")\n",
    "for groupfilepath in holdout_path.ls():\n",
    "    groupname = str(groupfilepath.parts[-1])\n",
    "    groupname = groupname[:groupname.find('-test.tsv')]\n",
    "    print('\\nProcessing holdout set for ' + groupname + '\\n')\n",
    "\n",
    "    test_df = pd.read_csv(holdout_path/(groupname+'-test.tsv'), header=None, delimiter='\\t', names=['label','text'])\n",
    "    print(test_df[:5])\n",
    "    \n",
    "    # settings for single vs multi-label learners\n",
    "    k = 3 if groupname in ['label_category', 'station', 'supergroups'] else 2\n",
    "    topkaccuracy = partial(top_k_accuracy, k=k)\n",
    "    metrics = [accuracy, topkaccuracy]\n",
    "    label_delim = None\n",
    "    if groupname == 'multilabel':\n",
    "        ### TEMP: something is wrong with this learner.\n",
    "        continue\n",
    "        label_delim = ','\n",
    "        \n",
    "    if groupname != 'label_usforeign':\n",
    "        continue\n",
    "        \n",
    "    test_databunch = TextClasDataBunch.from_df(model_path/\"fold_0\", test_df, test_df, vocab=vocab, \n",
    "                                               text_cols='text', label_cols='label', bs=bs,\n",
    "                                               label_delim=label_delim)\n",
    "\n",
    "    try:\n",
    "        # load exported classifier with no data\n",
    "        learn = load_learner(modeldir, fname=groupname + '_clas_fine_tuned.pkl',)    \n",
    "    except:\n",
    "        print('  - no learner found or unable to load. skipping.')\n",
    "        continue\n",
    "\n",
    "    if groupname == 'multilabel':\n",
    "        class_mask = [c in Labels['label_category'] for c in learn.data.train_ds.classes]\n",
    "        class_idxes = sorted([learn.data.train_ds.classes.index(c) for c in Labels['label_category']])\n",
    "        label_category_accuracy = partial(accuracy_category, class_idxes=tensor(class_idxes).cuda(), thresh=0.5)\n",
    "        metrics = [accuracy_thresh, # accuracy per label at default threshold of 0.5\n",
    "                   label_category_accuracy] # \"accuracy\" among true category labels only\n",
    "        \n",
    "    # print validation results: [loss function, metric 1, metric 2 ...]\n",
    "    print('\\n  ', learn.validate(test_databunch.valid_dl, metrics=metrics))\n",
    "    \n",
    "    if groupname in label_set:\n",
    "        # get the actual predictions\n",
    "        learn.data.valid_dl = test_databunch.valid_dl\n",
    "        preds, true_y = learn.get_preds(ds_type=DatasetType.Valid) # don't need ordered = True since we don't cross reference anywhere\n",
    "\n",
    "        # find percents of the test set based upon both top k and top 1 to compare against actual\n",
    "        print(\" - Out of \", len(preds), \"snippets\")\n",
    "\n",
    "        pcts = getTopPredPcts(preds, learn.data.train_ds.classes, groupname)\n",
    "        print(\"    - Top Preds %'s:\")\n",
    "        for pct in pcts:\n",
    "            print(\"      %20s %f\" % (pct[0], pct[1]))\n",
    "        pcts = getTopKWeightedPredPcts(preds, learn.data.train_ds.classes, groupname)\n",
    "        print(\"    - Top-k summed Preds %'s:\")\n",
    "        for pct in pcts:\n",
    "            print(\"      %20s %.04f\" % (pct[0], pct[1]))"
   ]
  }
 ],
 "metadata": {
  "kernelspec": {
   "display_name": "Python [conda env:python37]",
   "language": "python",
   "name": "conda-env-python37-py"
  },
  "language_info": {
   "codemirror_mode": {
    "name": "ipython",
    "version": 3
   },
   "file_extension": ".py",
   "mimetype": "text/x-python",
   "name": "python",
   "nbconvert_exporter": "python",
   "pygments_lexer": "ipython3",
   "version": "3.7.2"
  }
 },
 "nbformat": 4,
 "nbformat_minor": 2
}
