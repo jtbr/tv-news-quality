{
 "cells": [
  {
   "cell_type": "markdown",
   "metadata": {},
   "source": [
    "## Convert snippets to our best guess for correct capitalization (\"true case\")"
   ]
  },
  {
   "cell_type": "code",
   "execution_count": 15,
   "metadata": {},
   "outputs": [],
   "source": [
    "%reload_ext autoreload\n",
    "%autoreload 2\n",
    "\n",
    "# NOTE: better to use python 2.7; python 3.7 may perform slightly differently due to differences in .lower()\n",
    "# but should work ok in either\n",
    "\n",
    "import re\n",
    "from Truecaser import *\n",
    "try:\n",
    "    import cPickle as pickle\n",
    "except:\n",
    "    import pickle\n",
    "import nltk\n",
    "import nltk.data\n",
    "from nltk.tokenize.treebank import TreebankWordDetokenizer as Detok\n",
    "sent_detector = nltk.data.load('tokenizers/punkt/english.pickle')\n",
    "detokenizer = Detok()"
   ]
  },
  {
   "cell_type": "code",
   "execution_count": 16,
   "metadata": {},
   "outputs": [],
   "source": [
    "def loadTrueCaserModel(model_filename):\n",
    "    with open(model_filename, 'rb') as f:\n",
    "        uniDist = pickle.load(f)\n",
    "        backwardBiDist = pickle.load(f)\n",
    "        forwardBiDist = pickle.load(f)\n",
    "        trigramDist = pickle.load(f)\n",
    "        wordCasingLookup = pickle.load(f)\n",
    "    return (wordCasingLookup, uniDist, backwardBiDist, forwardBiDist, trigramDist)\n",
    "\n",
    "model = loadTrueCaserModel('distributions.obj')"
   ]
  },
  {
   "cell_type": "code",
   "execution_count": 17,
   "metadata": {},
   "outputs": [],
   "source": [
    "def trueCaseSnippet(snippet, model):\n",
    "    snippet_parts = snippet.split(\" \\\\\\\\ \")\n",
    "    truecase_snippet_parts = []\n",
    "    for part in snippet_parts:\n",
    "        sentences = sent_detector.tokenize(part)\n",
    "        trueCaseSentences = []\n",
    "        for sentence in sentences:\n",
    "            speech_start = False\n",
    "            if len(sentence) > 2 and sentence[:2] == \"> \":\n",
    "                speech_start = True\n",
    "                s = sentence[2:]\n",
    "            else:\n",
    "                s = sentence\n",
    "            s = re.sub(r\"&#[xX][\\da-fA-F]+;\", 'xxbell', s)\n",
    "            tokens = nltk.word_tokenize(s.lower())\n",
    "            tokens = getTrueCase(tokens, 'lower', *model)\n",
    "            # recreate sentence from tokens using regular expression to get punctuation right\n",
    "            #trueCaseSentence = re.sub(\" (?=[\\.,'!?:;%])\", \"\", ' '.join(tokens))\n",
    "            trueCaseSentence = detokenizer.detokenize(tokens)\n",
    "            #trueCaseSentence = re.sub(r\"& #X([0-9A-F]{4})\\s?;\", r\"&#x\\1;\", trueCaseSentence)\n",
    "            if speech_start:\n",
    "                trueCaseSentence = \"> \" + trueCaseSentence          \n",
    "            trueCaseSentences.append(trueCaseSentence)\n",
    "        truecase_snippet_parts.append(' '.join(trueCaseSentences))\n",
    "    return ' '.join(truecase_snippet_parts) # ' \\\\\\\\ ' (remove \\\\)\n",
    "            "
   ]
  },
  {
   "cell_type": "code",
   "execution_count": 18,
   "metadata": {},
   "outputs": [
    {
     "data": {
      "text/plain": [
       "'xxbell every little baby wants 50% more cash...xxbell PT! Fine, you try. Ha ha. The Capital One cash rewards card. The card for people who want 50% more cash. xxbell'"
      ]
     },
     "execution_count": 18,
     "metadata": {},
     "output_type": "execute_result"
    }
   ],
   "source": [
    "#%%timeit\n",
    "#snippet = \"> I WANT TO TALK ABOUT THE HOME STANDBY GENERATOR MARKET SINCE A LOT OF VIEWERS ARE OUT THERE AND MAYBE HAVE A GENERATOR OR THINKING OF GETTING ONE. ABOUT 53% MORE THAN HALF OF SALES. \\\\\\\\ I'M JUST KAURS. THEY SEEM TO BE A BETTER MARGIN. IT'S A MORE FAVORABLE PRODUCT MIX. \\\\\\\\ > THE TREND HAS BEEN FANTASTIC. IT'S A PRETTY NEW MARKET, STILL. ONLY ABOUT 3 PRS OF HOMES HAVE THE PRODUCT TODAY.\"\n",
    "snippet = \"&#x266a; EVERY LITTLE BABY WANTS  50% MORE CASH... &#x266a;  PT! FINE, YOU TRY. HA HA. \\\\\\\\ THE    Capital One Cash Rewards Card. THE CARD FOR PEOPLE WHO WANT 50% MORE CASH. &#x266a;\"\n",
    "trueCaseSnippet(snippet, model)"
   ]
  },
  {
   "cell_type": "code",
   "execution_count": 19,
   "metadata": {},
   "outputs": [],
   "source": [
    "with open('../snippets_sample.1pct-nocontrolchars.tsv') as input_file:\n",
    "    with open('../snippets_sample.1pct-truecase-tmp5.tsv', 'w') as output_file:\n",
    "        for line in input_file:\n",
    "            output_file.write(trueCaseSnippet(line, model) + '\\n')"
   ]
  },
  {
   "cell_type": "code",
   "execution_count": 17,
   "metadata": {
    "collapsed": true
   },
   "outputs": [],
   "source": [
    "with open('../labeled_data/fold_0/label_category/label_category_valid.tsv') as input_file:\n",
    "    with open('../labeled_data/fold_0/label_category/label_category_valid-truecase.tsv', 'w') as output_file:\n",
    "        for line in input_file:\n",
    "            parts = line.split('\\t')\n",
    "            assert(len(parts) == 2)\n",
    "            output_file.write(parts[0] + '\\t' + trueCaseSnippet(parts[1], model) + '\\n')"
   ]
  },
  {
   "cell_type": "code",
   "execution_count": null,
   "metadata": {},
   "outputs": [],
   "source": []
  }
 ],
 "metadata": {
  "anaconda-cloud": {},
  "kernelspec": {
   "display_name": "Python 3",
   "language": "python",
   "name": "python3"
  },
  "language_info": {
   "codemirror_mode": {
    "name": "ipython",
    "version": 3
   },
   "file_extension": ".py",
   "mimetype": "text/x-python",
   "name": "python",
   "nbconvert_exporter": "python",
   "pygments_lexer": "ipython3",
   "version": "3.7.2"
  }
 },
 "nbformat": 4,
 "nbformat_minor": 1
}
