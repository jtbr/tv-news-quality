{
 "cells": [
  {
   "cell_type": "code",
   "execution_count": 1,
   "metadata": {
    "collapsed": true
   },
   "outputs": [],
   "source": [
    "%reload_ext autoreload\n",
    "%autoreload 2\n",
    "%matplotlib inline"
   ]
  },
  {
   "cell_type": "code",
   "execution_count": 19,
   "metadata": {
    "collapsed": true
   },
   "outputs": [],
   "source": [
    "import os, re\n",
    "from collections import defaultdict, deque\n",
    "import pymongo\n",
    "from datetime import datetime\n",
    "import pandas as pd\n",
    "import random\n",
    "import numpy as np\n",
    "from common import Label_DbFields, Synthetic_Category_Group_Names, Other_Synthetic_Group_Names, MultiLabel_Group_Name, Labels\n",
    "\n",
    "random.seed(42)"
   ]
  },
  {
   "cell_type": "code",
   "execution_count": 3,
   "metadata": {
    "collapsed": true
   },
   "outputs": [],
   "source": [
    "USE_TRUECASER = True\n",
    "if USE_TRUECASER:\n",
    "    from truecaser.Truecaser import getTrueCase\n",
    "    try:\n",
    "        import cPickle as pickle\n",
    "    except:\n",
    "        import pickle\n",
    "    import nltk\n",
    "    import nltk.data\n",
    "    from nltk.tokenize.treebank import TreebankWordDetokenizer as Detok\n",
    "    sent_detector = nltk.data.load('tokenizers/punkt/english.pickle')\n",
    "    detokenizer = Detok()"
   ]
  },
  {
   "cell_type": "code",
   "execution_count": 4,
   "metadata": {
    "collapsed": true
   },
   "outputs": [],
   "source": [
    "def loadTrueCaserModel(model_filename):\n",
    "    print('Loading truecaser model ...')\n",
    "    if not os.path.exists(model_filename):\n",
    "        model_filename = '../' + model_filename\n",
    "    with open(model_filename, 'rb') as f:\n",
    "        uniDist = pickle.load(f)\n",
    "        backwardBiDist = pickle.load(f)\n",
    "        forwardBiDist = pickle.load(f)\n",
    "        trigramDist = pickle.load(f)\n",
    "        wordCasingLookup = pickle.load(f)\n",
    "    return (wordCasingLookup, uniDist, backwardBiDist, forwardBiDist, trigramDist)"
   ]
  },
  {
   "cell_type": "code",
   "execution_count": 8,
   "metadata": {},
   "outputs": [
    {
     "name": "stdout",
     "output_type": "stream",
     "text": [
      "Loading truecaser model ...\n"
     ]
    }
   ],
   "source": [
    "TC_MODEL = loadTrueCaserModel('truecaser/distributions.obj')"
   ]
  },
  {
   "cell_type": "markdown",
   "metadata": {},
   "source": [
    "### Pull down from mongodb and preprocess all snippets for later classification, saving by quarter (4 per year)"
   ]
  },
  {
   "cell_type": "code",
   "execution_count": 9,
   "metadata": {
    "collapsed": true
   },
   "outputs": [],
   "source": [
    "def trueCaseSnippets(snippets, model):\n",
    "    '''true-case a list of (usually 3) snippets, and remove control characters within them'''\n",
    "    truecase_snippets = []\n",
    "    for part in snippets:\n",
    "        part = re.sub(r\"[\\x00-\\x0c]+\", '', part) # remove control chars\n",
    "        sentences = sent_detector.tokenize(part)\n",
    "        trueCaseSentences = []\n",
    "        for sentence in sentences:\n",
    "            speech_start = False\n",
    "            if len(sentence) > 2 and sentence[:2] == \"> \":\n",
    "                speech_start = True\n",
    "                s = sentence[2:]\n",
    "            else:\n",
    "                s = sentence\n",
    "            s = re.sub(r\"&#[xX][\\da-fA-F]+;\", 'xxbell', s)\n",
    "            tokens = nltk.word_tokenize(s.lower())\n",
    "            tokens = getTrueCase(tokens, 'lower', *model)\n",
    "            trueCaseSentence = detokenizer.detokenize(tokens)\n",
    "            if speech_start:\n",
    "                trueCaseSentence = \"> \" + trueCaseSentence          \n",
    "            trueCaseSentences.append(trueCaseSentence)\n",
    "        truecase_snippets.append(' '.join(trueCaseSentences))\n",
    "    return truecase_snippets"
   ]
  },
  {
   "cell_type": "code",
   "execution_count": 15,
   "metadata": {
    "collapsed": true
   },
   "outputs": [],
   "source": [
    "def genSnippet(doc):\n",
    "    return \" \".join(trueCaseSnippets([doc['snippet_part1'], doc['snippet_part2'], doc['snippet_part3']], TC_MODEL))"
   ]
  },
  {
   "cell_type": "code",
   "execution_count": null,
   "metadata": {
    "scrolled": true
   },
   "outputs": [
    {
     "name": "stdout",
     "output_type": "stream",
     "text": [
      "2019-03-16 11:35:12.108427: Processing 629380 snippets from quarter beginning 2010-01-01\n",
      "2019-03-16 12:17:02.272085: Processing 532573 snippets from quarter beginning 2010-04-01\n",
      "2019-03-16 12:51:54.451804: Processing 697109 snippets from quarter beginning 2010-07-01\n"
     ]
    }
   ],
   "source": [
    "# Note: the TC_MODEL uses most of the memory... almost 8gb\n",
    "MONGODB_PORT = 25541\n",
    "\n",
    "# generate a prepped-snippets file for each quarter in 2010-2016\n",
    "with pymongo.MongoClient('localhost', MONGODB_PORT) as mclient:\n",
    "    mdb = mclient.snippetdb\n",
    "    msnippets = mdb.snippets\n",
    "    #msnippets.create_index([('holdout', pymongo.ASCENDING)])\n",
    "    #msnippets.create_index([('train_set', pymongo.ASCENDING)])\n",
    "    #msnippets.create_index([('airdatetime', pymongo.ASCENDING)])\n",
    "    \n",
    "    #doc_cursor = msnippets.find({'holdout': {'$exists': False}, 'train_set': {'$exists': False}})\n",
    "    \n",
    "    date_ranges = deque()\n",
    "    date_to = None\n",
    "    for year in reversed(range(2010,2017)):\n",
    "        for month in reversed([\"01\", \"04\", \"07\", \"10\"]):\n",
    "            date_from = str(year) + '-' + month + \"-01\"\n",
    "            date_ranges.appendleft((date_from, date_to))\n",
    "            date_to = date_from\n",
    "    date_ranges = list(date_ranges)\n",
    "\n",
    "    for quarter in date_ranges:\n",
    "        date_query = { \"$gte\" : datetime.strptime(quarter[0], \"%Y-%m-%d\") }\n",
    "        if quarter[1]:\n",
    "            date_query[\"$lt\"] = datetime.strptime(quarter[1], \"%Y-%m-%d\")\n",
    "\n",
    "        count = msnippets.count({\"airdatetime\": date_query})\n",
    "        print(\"%s: Processing %d snippets from quarter beginning %s\" % (str(datetime.today()), count, quarter[0]))\n",
    "        \n",
    "        # get all snippets in that quarter (even for the rare case they're in train/holdout sets)\n",
    "        # do this sequentially to save memory\n",
    "        doc_cursor = msnippets.find({\"airdatetime\": date_query}, ['airdatetime', 'station', 'filename', 'file_idx', 'snippet_part1', 'snippet_part2', 'snippet_part3']) #, 'holdout': {'$exists': False}, 'train_set': {'$exists': False}}))\n",
    " \n",
    "        fields_to_save = ['airdatetime', 'file_idx', 'filename', 'station', 'snippet']    \n",
    "        with open('/data/' + quarter[0] + '_snippets.tsv', 'w') as f:\n",
    "            f.write(\"\\t\".join(fields_to_save) + \"\\n\")\n",
    "\n",
    "            for doc in doc_cursor:\n",
    "                snippet = genSnippet(doc)\n",
    "                f.write(\"\\t\".join([str(doc[field]) for field in fields_to_save[:-1]] + [snippet]) + \"\\n\")\n",
    "                "
   ]
  },
  {
   "cell_type": "code",
   "execution_count": null,
   "metadata": {
    "collapsed": true
   },
   "outputs": [],
   "source": [
    "    # iterative version, saves on memory, slightly slower\n",
    "    fields_to_save = ['airdatetime', 'file_idx', 'filename', 'station', 'snippet']    \n",
    "    with open(quarter[0] + '_snippets.csv', 'w') as f:\n",
    "        f.write(\"\\t\".join(fields_to_save) + \"\\n\")\n",
    "\n",
    "        for doc in doc_cursor:\n",
    "            snippet = genSnippet(doc)\n",
    "            f.write(\"\\t\".join([doc[field] for field in fields_to_save[:-1]] + [snippet]) + \"\\n\")"
   ]
  },
  {
   "cell_type": "code",
   "execution_count": null,
   "metadata": {
    "collapsed": true
   },
   "outputs": [],
   "source": [
    "        # batch version (uses too much memory)\n",
    "        df = pd.DataFrame.from_records(doc_cursor)\n",
    "        \n",
    "        # clean up, true-case, and join snippet parts into a single snippet\n",
    "        df['snippet'] = df.apply(genSnippet, axis=1) # apply function to each row\n",
    "\n",
    "        # remove index & snippet parts\n",
    "        #del df['_id'], etc ... is slower (although this presumably needs more memory)\n",
    "        df = df[['airdatetime', 'file_idx', 'filename', 'station', 'snippet']]\n",
    "        \n",
    "        #save to file\n",
    "        df.to_csv(quarter[0] + '_snippets.tsv', sep='\\t', index=False)"
   ]
  }
 ],
 "metadata": {
  "anaconda-cloud": {},
  "kernelspec": {
   "display_name": "Python 2",
   "language": "python",
   "name": "python2"
  },
  "language_info": {
   "codemirror_mode": {
    "name": "ipython",
    "version": 2
   },
   "file_extension": ".py",
   "mimetype": "text/x-python",
   "name": "python",
   "nbconvert_exporter": "python",
   "pygments_lexer": "ipython2",
   "version": "2.7.15"
  }
 },
 "nbformat": 4,
 "nbformat_minor": 2
}
